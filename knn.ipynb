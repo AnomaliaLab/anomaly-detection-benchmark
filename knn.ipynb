{
 "cells": [
  {
   "cell_type": "code",
   "execution_count": null,
   "id": "2c1c3939",
   "metadata": {},
   "outputs": [],
   "source": [
    "import numpy as np\n",
    "import pandas as pd\n",
    "import matplotlib.pyplot as plt\n",
    "from sklearn.neighbors import NearestNeighbors\n",
    "from sklearn.preprocessing import MinMaxScaler\n",
    "from sklearn.model_selection import train_test_split"
   ]
  },
  {
   "cell_type": "code",
   "execution_count": null,
   "id": "6b1637f7",
   "metadata": {},
   "outputs": [],
   "source": [
    "# Generate normal data (sine wave)\n",
    "t = np.linspace(0, 100, 1000)\n",
    "normal_data = np.sin(t) + 0.1 * np.random.randn(1000)"
   ]
  },
  {
   "cell_type": "code",
   "execution_count": null,
   "id": "d9d14bec",
   "metadata": {},
   "outputs": [],
   "source": [
    "# Introduce anomalies (random spikes)\n",
    "anomaly_indices = np.random.choice(1000, 50, replace=False)\n",
    "anomalies = normal_data.copy()\n",
    "anomalies[anomaly_indices] += np.random.uniform(3, 5, size=50)"
   ]
  },
  {
   "cell_type": "code",
   "execution_count": null,
   "id": "1a64680b",
   "metadata": {},
   "outputs": [],
   "source": [
    "# Combine normal and anomaly data\n",
    "data = np.concatenate([normal_data, anomalies]).reshape(-1, 1)"
   ]
  },
  {
   "cell_type": "code",
   "execution_count": null,
   "id": "7ed3710c",
   "metadata": {},
   "outputs": [],
   "source": [
    "# Normalize data\n",
    "scaler = MinMaxScaler()\n",
    "data_scaled = scaler.fit_transform(data)"
   ]
  },
  {
   "cell_type": "code",
   "execution_count": null,
   "id": "3926cacd",
   "metadata": {},
   "outputs": [],
   "source": [
    "# Split data into training (normal only) and testing (normal + anomalies)\n",
    "X_train, X_test = train_test_split(data_scaled[:1000], test_size=0.2, random_state=42)\n",
    "X_test = np.concatenate([X_test, data_scaled[1000:]])  # Add anomalies to test set"
   ]
  },
  {
   "cell_type": "code",
   "execution_count": null,
   "id": "6391feb7",
   "metadata": {},
   "outputs": [],
   "source": [
    "# Fit KNN model (using NearestNeighbors)\n",
    "n_neighbors = 20\n",
    "knn = NearestNeighbors(n_neighbors=n_neighbors)\n",
    "knn.fit(X_train)"
   ]
  },
  {
   "cell_type": "code",
   "execution_count": null,
   "id": "fea0a33f",
   "metadata": {},
   "outputs": [],
   "source": [
    "# Compute average distance to k nearest neighbors for each test sample\n",
    "distances, _ = knn.kneighbors(X_test)\n",
    "anomaly_scores = distances.mean(axis=1)"
   ]
  },
  {
   "cell_type": "code",
   "execution_count": null,
   "id": "cb958ad8",
   "metadata": {},
   "outputs": [],
   "source": [
    "# Set threshold (mean + 3*std of scores)\n",
    "threshold = anomaly_scores.mean() + 3 * anomaly_scores.std()\n",
    "anomalies = anomaly_scores > threshold"
   ]
  },
  {
   "cell_type": "code",
   "execution_count": null,
   "id": "c78ca1fb",
   "metadata": {},
   "outputs": [],
   "source": [
    "# Plot results\n",
    "plt.figure(figsize=(12, 6))\n",
    "plt.plot(anomaly_scores, label=\"KNN Anomaly Score\")\n",
    "plt.scatter(np.where(anomalies)[0], anomaly_scores[anomalies], color='r', label=\"Detected Anomalies\")\n",
    "plt.axhline(y=threshold, color='g', linestyle='--', label=\"Threshold\")\n",
    "plt.legend()\n",
    "plt.title(\"Anomaly Detection using KNN\")\n",
    "plt.show()"
   ]
  },
  {
   "cell_type": "code",
   "execution_count": null,
   "id": "2b3cc9d0",
   "metadata": {},
   "outputs": [],
   "source": [
    "print(f\"Total anomalies detected: {np.sum(anomalies)}\")"
   ]
  }
 ],
 "metadata": {
  "jupytext": {
   "cell_metadata_filter": "-all",
   "main_language": "python",
   "notebook_metadata_filter": "-all"
  }
 },
 "nbformat": 4,
 "nbformat_minor": 5
}
